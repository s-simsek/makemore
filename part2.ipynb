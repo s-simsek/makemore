{
 "cells": [
  {
   "cell_type": "code",
   "execution_count": 283,
   "id": "f5406465-f9a5-41a6-a690-436d6adc6f2c",
   "metadata": {},
   "outputs": [],
   "source": [
    "import torch\n",
    "import torch.nn.functional as F\n",
    "import matplotlib.pyplot as plt # for making figures\n",
    "import numpy as np\n",
    "%matplotlib inline"
   ]
  },
  {
   "cell_type": "code",
   "execution_count": 2,
   "id": "0827becf-a2f0-4af0-9719-51e1b5f43913",
   "metadata": {},
   "outputs": [
    {
     "data": {
      "text/plain": [
       "['emma', 'olivia', 'ava', 'isabella', 'sophia', 'charlotte', 'mia', 'amelia']"
      ]
     },
     "execution_count": 2,
     "metadata": {},
     "output_type": "execute_result"
    }
   ],
   "source": [
    "# read in all the words\n",
    "words = open('names.txt', 'r').read().splitlines()\n",
    "words[:8]"
   ]
  },
  {
   "cell_type": "code",
   "execution_count": 3,
   "id": "7f249f67-5c8f-432a-95c3-5745e443d064",
   "metadata": {},
   "outputs": [
    {
     "data": {
      "text/plain": [
       "32033"
      ]
     },
     "execution_count": 3,
     "metadata": {},
     "output_type": "execute_result"
    }
   ],
   "source": [
    "len(words)"
   ]
  },
  {
   "cell_type": "code",
   "execution_count": 6,
   "id": "b83c281f-fa1a-4437-8f86-45c8b7914ae8",
   "metadata": {},
   "outputs": [
    {
     "name": "stdout",
     "output_type": "stream",
     "text": [
      "{1: 'a', 2: 'b', 3: 'c', 4: 'd', 5: 'e', 6: 'f', 7: 'g', 8: 'h', 9: 'i', 10: 'j', 11: 'k', 12: 'l', 13: 'm', 14: 'n', 15: 'o', 16: 'p', 17: 'q', 18: 'r', 19: 's', 20: 't', 21: 'u', 22: 'v', 23: 'w', 24: 'x', 25: 'y', 26: 'z', 0: '.'}\n"
     ]
    }
   ],
   "source": [
    "# build the vocabulary of characters and mappings to/from integers\n",
    "chars = sorted(list(set(''.join(words))))\n",
    "stoi = {s:i+1 for i,s in enumerate(chars)}\n",
    "stoi['.'] = 0\n",
    "itos = {i:s for s,i in stoi.items()}\n",
    "print(itos)"
   ]
  },
  {
   "cell_type": "code",
   "execution_count": 25,
   "id": "474e384f-c01f-4cb8-baeb-7af732f32f0b",
   "metadata": {},
   "outputs": [
    {
     "name": "stdout",
     "output_type": "stream",
     "text": [
      "emma\n",
      "... ---> e\n",
      "..e ---> m\n",
      ".em ---> m\n",
      "emm ---> a\n",
      "mma ---> .\n",
      "olivia\n",
      "... ---> o\n",
      "..o ---> l\n",
      ".ol ---> i\n",
      "oli ---> v\n",
      "liv ---> i\n",
      "ivi ---> a\n",
      "via ---> .\n",
      "ava\n",
      "... ---> a\n",
      "..a ---> v\n",
      ".av ---> a\n",
      "ava ---> .\n",
      "isabella\n",
      "... ---> i\n",
      "..i ---> s\n",
      ".is ---> a\n",
      "isa ---> b\n",
      "sab ---> e\n",
      "abe ---> l\n",
      "bel ---> l\n",
      "ell ---> a\n",
      "lla ---> .\n",
      "sophia\n",
      "... ---> s\n",
      "..s ---> o\n",
      ".so ---> p\n",
      "sop ---> h\n",
      "oph ---> i\n",
      "phi ---> a\n",
      "hia ---> .\n"
     ]
    }
   ],
   "source": [
    "# build the dataset\n",
    "\n",
    "block_size = 3 # context length: how many characters do we take to predict the next one?\n",
    "X, Y = [], []\n",
    "for w in words[:5]:\n",
    "  \n",
    "  print(w)\n",
    "  context = [0] * block_size\n",
    "  for ch in w + '.':\n",
    "    ix = stoi[ch]\n",
    "    X.append(context)\n",
    "    Y.append(ix)\n",
    "    print(''.join(itos[i] for i in context), '--->', itos[ix])\n",
    "    context = context[1:] + [ix] # crop and append\n",
    "  \n",
    "X = torch.tensor(X)\n",
    "Y = torch.tensor(Y)"
   ]
  },
  {
   "cell_type": "markdown",
   "id": "254498f4-d450-44c0-8cc5-26dc821d4316",
   "metadata": {},
   "source": [
    "Creating a function that will be used to split data into train/dev/test in order to measure the performance of the neural network model"
   ]
  },
  {
   "cell_type": "code",
   "execution_count": 52,
   "id": "6c9cd358-a43c-46ea-90d5-4c34eac5bbab",
   "metadata": {},
   "outputs": [
    {
     "name": "stdout",
     "output_type": "stream",
     "text": [
      "torch.Size([182625, 3]) torch.Size([182625])\n",
      "torch.Size([22655, 3]) torch.Size([22655])\n",
      "torch.Size([22866, 3]) torch.Size([22866])\n"
     ]
    }
   ],
   "source": [
    "# build the dataset\n",
    "block_size = 3 # context length: how many characters do we take to predict the next one?\n",
    "\n",
    "def build_dataset(words):  \n",
    "  X, Y = [], []\n",
    "  for w in words:\n",
    "\n",
    "    #print(w)\n",
    "    context = [0] * block_size\n",
    "    for ch in w + '.':\n",
    "      ix = stoi[ch]\n",
    "      X.append(context)a\n",
    "      Y.append(ix)\n",
    "      #print(''.join(itos[i] for i in context), '--->', itos[ix])\n",
    "      context = context[1:] + [ix] # crop and append\n",
    "\n",
    "  X = torch.tensor(X)\n",
    "  Y = torch.tensor(Y)\n",
    "  print(X.shape, Y.shape)\n",
    "  return X, Y\n",
    "\n",
    "import random\n",
    "random.seed(42)\n",
    "random.shuffle(words)\n",
    "n1 = int(0.8*len(words))\n",
    "n2 = int(0.9*len(words))\n",
    "\n",
    "Xtr, Ytr = build_dataset(words[:n1])\n",
    "Xdev, Ydev = build_dataset(words[n1:n2])\n",
    "Xte, Yte = build_dataset(words[n2:])"
   ]
  },
  {
   "cell_type": "code",
   "execution_count": 59,
   "id": "9c8820b9-bb5d-4c3d-9054-d9184b44a959",
   "metadata": {},
   "outputs": [],
   "source": [
    "g = torch.Generator().manual_seed(2147483647) # for reproducibility\n",
    "C = torch.randn((27, 10), generator=g)\n",
    "W1 = torch.randn((30, 200), generator=g)\n",
    "b1 = torch.randn(200, generator=g)\n",
    "W2 = torch.randn((200, 27), generator=g)\n",
    "b2 = torch.randn(27, generator=g)\n",
    "parameters = [C, W1, b1, W2, b2]"
   ]
  },
  {
   "cell_type": "code",
   "execution_count": 60,
   "id": "ebe7e447-3f80-4bbe-8696-c6021044dbc4",
   "metadata": {},
   "outputs": [
    {
     "data": {
      "text/plain": [
       "11897"
      ]
     },
     "execution_count": 60,
     "metadata": {},
     "output_type": "execute_result"
    }
   ],
   "source": [
    "sum(p.nelement() for p in parameters) # number of parameters in total"
   ]
  },
  {
   "cell_type": "code",
   "execution_count": 61,
   "id": "edce7a29-4612-4f97-a0ea-91691cae3db4",
   "metadata": {},
   "outputs": [],
   "source": [
    "for p in parameters:\n",
    "  p.requires_grad = True"
   ]
  },
  {
   "cell_type": "code",
   "execution_count": 62,
   "id": "7ea1b1a3-6b36-4b57-b85c-42fd4631ef59",
   "metadata": {},
   "outputs": [],
   "source": [
    "lre = torch.linspace(-3, 0, 1000)\n",
    "lrs = 10**lre"
   ]
  },
  {
   "cell_type": "code",
   "execution_count": 63,
   "id": "4a4d25d6-cf83-411d-8afc-bdf370b4a9c3",
   "metadata": {},
   "outputs": [],
   "source": [
    "lri = []\n",
    "lossi = []\n",
    "stepi = []"
   ]
  },
  {
   "cell_type": "code",
   "execution_count": 64,
   "id": "55be8225-773c-4c08-be06-36ab4996c9aa",
   "metadata": {},
   "outputs": [],
   "source": [
    "for i in range(200000):\n",
    "  \n",
    "  # minibatch construct\n",
    "  ix = torch.randint(0, Xtr.shape[0], (32,))\n",
    "  \n",
    "  # forward pass\n",
    "  emb = C[Xtr[ix]] # (32, 3, 10)\n",
    "  h = torch.tanh(emb.view(-1, 30) @ W1 + b1) # (32, 200)\n",
    "  logits = h @ W2 + b2 # (32, 27)\n",
    "  loss = F.cross_entropy(logits, Ytr[ix])\n",
    "  #print(loss.item())\n",
    "  \n",
    "  # backward pass\n",
    "  for p in parameters:\n",
    "    p.grad = None\n",
    "  loss.backward()\n",
    "  \n",
    "  # update\n",
    "  #lr = lrs[i]\n",
    "  lr = 0.1 if i < 100000 else 0.01\n",
    "  for p in parameters:\n",
    "    p.data += -lr * p.grad\n",
    "\n",
    "  # track stats\n",
    "  #lri.append(lre[i])\n",
    "  stepi.append(i)\n",
    "  lossi.append(loss.log10().item())\n",
    "\n",
    "#print(loss.item())"
   ]
  },
  {
   "cell_type": "code",
   "execution_count": 66,
   "id": "006ea3ed-7de3-4000-b75c-a912a2dced0e",
   "metadata": {},
   "outputs": [
    {
     "data": {
      "text/plain": [
       "[<matplotlib.lines.Line2D at 0x13127a270>]"
      ]
     },
     "execution_count": 66,
     "metadata": {},
     "output_type": "execute_result"
    },
    {
     "data": {
      "image/png": "[encoded data removed]",
      "text/plain": [
       "<Figure size 640x480 with 1 Axes>"
      ]
     },
     "metadata": {},
     "output_type": "display_data"
    }
   ],
   "source": [
    "plt.plot(stepi, lossi)"
   ]
  },
  {
   "cell_type": "code",
   "execution_count": 67,
   "id": "b0dece1e-f71f-4cfc-8de6-43f8a4305500",
   "metadata": {},
   "outputs": [
    {
     "data": {
      "text/plain": [
       "tensor(2.1104, grad_fn=<NllLossBackward0>)"
      ]
     },
     "execution_count": 67,
     "metadata": {},
     "output_type": "execute_result"
    }
   ],
   "source": [
    "emb = C[Xtr] # (32, 3, 2)\n",
    "h = torch.tanh(emb.view(-1, 30) @ W1 + b1) # (32, 100)\n",
    "logits = h @ W2 + b2 # (32, 27)\n",
    "loss = F.cross_entropy(logits, Ytr)\n",
    "loss"
   ]
  },
  {
   "cell_type": "markdown",
   "id": "176595fc-6675-4b70-bf72-ceda4d3856ee",
   "metadata": {},
   "source": [
    "This loss is much better than the loss we have from biagram model"
   ]
  },
  {
   "cell_type": "code",
   "execution_count": 68,
   "id": "29aff0b7-51d9-4c85-a8eb-034d56972307",
   "metadata": {},
   "outputs": [
    {
     "name": "stdout",
     "output_type": "stream",
     "text": [
      "carmah.\n",
      "ambrilli.\n",
      "kimleige.\n",
      "tykhnanden.\n",
      "jazheen.\n",
      "deliah.\n",
      "jarquiu.\n",
      "ramara.\n",
      "chaily.\n",
      "kaleigh.\n",
      "ham.\n",
      "porriquinn.\n",
      "shon.\n",
      "raiviani.\n",
      "watelogiearyxin.\n",
      "kael.\n",
      "durabee.\n",
      "deco.\n",
      "abetteley.\n",
      "frana.\n"
     ]
    }
   ],
   "source": [
    "# sample from the model\n",
    "g = torch.Generator().manual_seed(2147483647 + 10)\n",
    "\n",
    "for _ in range(20):\n",
    "    \n",
    "    out = []\n",
    "    context = [0] * block_size # initialize with all ...\n",
    "    while True:\n",
    "      emb = C[torch.tensor([context])] # (1,block_size,d)\n",
    "      h = torch.tanh(emb.view(1, -1) @ W1 + b1)\n",
    "      logits = h @ W2 + b2\n",
    "      probs = F.softmax(logits, dim=1)\n",
    "      ix = torch.multinomial(probs, num_samples=1, generator=g).item()\n",
    "      context = context[1:] + [ix]\n",
    "      out.append(ix)\n",
    "      if ix == 0:\n",
    "        break\n",
    "    \n",
    "    print(''.join(itos[i] for i in out))"
   ]
  },
  {
   "cell_type": "markdown",
   "id": "b31dbfe2-b603-48cd-b79a-613ff247ebab",
   "metadata": {},
   "source": [
    "# Exercise"
   ]
  },
  {
   "cell_type": "markdown",
   "id": "a62c48e2-5360-484d-bc41-f07bce8579c4",
   "metadata": {},
   "source": [
    "Trying to beat Andrej's min 2.2 loss from the lecture"
   ]
  },
  {
   "cell_type": "code",
   "execution_count": 613,
   "id": "c235091d-8562-45b2-845a-9b1de28ecf6e",
   "metadata": {},
   "outputs": [],
   "source": [
    "embedding_count = 20\n",
    "layer_size = 200\n",
    "batch_size = 64\n",
    "epochs = 60\n",
    "block_size = 4 # context length: how many characters do we take to predict the next one?"
   ]
  },
  {
   "cell_type": "code",
   "execution_count": 614,
   "id": "fcfab53a-1073-495d-9e89-de6363e9cb63",
   "metadata": {},
   "outputs": [
    {
     "name": "stdout",
     "output_type": "stream",
     "text": [
      "torch.Size([182512, 4]) torch.Size([182512])\n",
      "torch.Size([22860, 4]) torch.Size([22860])\n",
      "torch.Size([22774, 4]) torch.Size([22774])\n"
     ]
    }
   ],
   "source": [
    "# build the dataset\n",
    "def build_dataset(words):  \n",
    "  X, Y = [], []\n",
    "  for w in words:\n",
    "\n",
    "    #print(w)\n",
    "    context = [0] * block_size\n",
    "    for ch in w + '.':\n",
    "      ix = stoi[ch]\n",
    "      X.append(context)\n",
    "      Y.append(ix)\n",
    "      #print(''.join(itos[i] for i in context), '--->', itos[ix])\n",
    "      context = context[1:] + [ix] # crop and append\n",
    "\n",
    "  X = torch.tensor(X)\n",
    "  Y = torch.tensor(Y)\n",
    "  print(X.shape, Y.shape)\n",
    "  return X, Y\n",
    "\n",
    "import random\n",
    "random.seed(42)\n",
    "random.shuffle(words)\n",
    "n1 = int(0.8*len(words))\n",
    "n2 = int(0.9*len(words))\n",
    "\n",
    "Xtr, Ytr = build_dataset(words[:n1])\n",
    "Xdev, Ydev = build_dataset(words[n1:n2])\n",
    "Xte, Yte = build_dataset(words[n2:])"
   ]
  },
  {
   "cell_type": "code",
   "execution_count": 615,
   "id": "3039fb3b-d9bc-43cb-8b43-067eb550a855",
   "metadata": {},
   "outputs": [],
   "source": [
    "g = torch.Generator().manual_seed(2147483647) # for reproducibility\n",
    "C = torch.randn((27, embedding_count), generator=g) # (len(chars), embedding count)\n",
    "W1 = torch.randn((embedding_count*block_size, layer_size), generator=g) # (embedding count x context size, neuron count)\n",
    "b1 = torch.randn(layer_size, generator=g) # neuron count\n",
    "W2 = torch.randn((layer_size, 27), generator=g) # (neuron count, len(chars))\n",
    "b2 = torch.randn(27, generator=g) # len(chars)\n",
    "parameters = [C, W1, b1, W2, b2]"
   ]
  },
  {
   "cell_type": "code",
   "execution_count": 616,
   "id": "2780bef1-ea45-498b-9d9e-90470374a12e",
   "metadata": {},
   "outputs": [],
   "source": [
    "for p in parameters:\n",
    "  p.requires_grad = True"
   ]
  },
  {
   "cell_type": "code",
   "execution_count": 617,
   "id": "aa42c00f-45b6-4f14-97b3-9a1812e33f1f",
   "metadata": {},
   "outputs": [],
   "source": [
    "lre = torch.linspace(-3, 0, 1000)\n",
    "lrs = 10**lre"
   ]
  },
  {
   "cell_type": "code",
   "execution_count": 618,
   "id": "ff1974a3-df61-4faf-b1ce-444ad5dfeb66",
   "metadata": {},
   "outputs": [],
   "source": [
    "lri = []\n",
    "lossi = []\n",
    "stepi = []"
   ]
  },
  {
   "cell_type": "code",
   "execution_count": 619,
   "id": "8733589b-f21c-473b-b749-763536a051d5",
   "metadata": {},
   "outputs": [],
   "source": [
    "def create_batches(count, batch_size=32):\n",
    "    indexes = np.arange(count)\n",
    "    np.random.shuffle(indexes)\n",
    "    full_batch_count = int(count/batch_size)\n",
    "    batches = indexes[:full_batch_count*batch_size].reshape(-1, batch_size).tolist()\n",
    "    if count % batch_size != 0:\n",
    "        rest = indexes[full_batch_count*batch_size:].tolist()\n",
    "        missing = batch_size - len(rest)\n",
    "        rest.extend(np.random.choice(np.arange(count), size=missing, replace=False))\n",
    "        batches.append(rest)\n",
    "    return batches"
   ]
  },
  {
   "cell_type": "code",
   "execution_count": 620,
   "id": "be219d7e-d7fe-434b-b8a9-8bfc10b6bdbb",
   "metadata": {},
   "outputs": [
    {
     "data": {
      "text/plain": [
       "64"
      ]
     },
     "execution_count": 620,
     "metadata": {},
     "output_type": "execute_result"
    }
   ],
   "source": [
    "batches = create_batches(Xtr.shape[0], batch_size)\n",
    "len(batches[-1])"
   ]
  },
  {
   "cell_type": "code",
   "execution_count": 621,
   "id": "6b4c6ebd-4cca-4e2e-82a8-a4f5065e9cbc",
   "metadata": {
    "scrolled": true
   },
   "outputs": [
    {
     "name": "stdout",
     "output_type": "stream",
     "text": [
      "Epoch: 0, Loss: 4.85\n",
      "Epoch: 1, Loss: 2.77\n",
      "Epoch: 2, Loss: 2.50\n",
      "Epoch: 3, Loss: 2.41\n",
      "Epoch: 4, Loss: 2.37\n",
      "Epoch: 5, Loss: 2.34\n",
      "Epoch: 6, Loss: 2.33\n",
      "Epoch: 7, Loss: 2.31\n",
      "Epoch: 8, Loss: 2.30\n",
      "Epoch: 9, Loss: 2.29\n",
      "Epoch: 10, Loss: 2.28\n",
      "Epoch: 11, Loss: 2.27\n",
      "Epoch: 12, Loss: 2.26\n",
      "Epoch: 13, Loss: 2.26\n",
      "Epoch: 14, Loss: 2.25\n",
      "Epoch: 15, Loss: 2.25\n",
      "Epoch: 16, Loss: 2.24\n",
      "Epoch: 17, Loss: 2.24\n",
      "Epoch: 18, Loss: 2.23\n",
      "Epoch: 19, Loss: 2.23\n",
      "Epoch: 20, Loss: 2.22\n",
      "Epoch: 21, Loss: 2.22\n",
      "Epoch: 22, Loss: 2.22\n",
      "Epoch: 23, Loss: 2.21\n",
      "Epoch: 24, Loss: 2.21\n",
      "Epoch: 25, Loss: 2.13\n",
      "Epoch: 26, Loss: 2.13\n",
      "Epoch: 27, Loss: 2.13\n",
      "Epoch: 28, Loss: 2.12\n",
      "Epoch: 29, Loss: 2.12\n",
      "Epoch: 30, Loss: 2.12\n",
      "Epoch: 31, Loss: 2.12\n",
      "Epoch: 32, Loss: 2.12\n",
      "Epoch: 33, Loss: 2.12\n",
      "Epoch: 34, Loss: 2.12\n",
      "Epoch: 35, Loss: 2.12\n",
      "Epoch: 36, Loss: 2.12\n",
      "Epoch: 37, Loss: 2.12\n",
      "Epoch: 38, Loss: 2.12\n",
      "Epoch: 39, Loss: 2.12\n",
      "Epoch: 40, Loss: 2.12\n",
      "Epoch: 41, Loss: 2.12\n",
      "Epoch: 42, Loss: 2.12\n",
      "Epoch: 43, Loss: 2.12\n",
      "Epoch: 44, Loss: 2.11\n",
      "Epoch: 45, Loss: 2.11\n",
      "Epoch: 46, Loss: 2.11\n",
      "Epoch: 47, Loss: 2.11\n",
      "Epoch: 48, Loss: 2.11\n",
      "Epoch: 49, Loss: 2.11\n",
      "Epoch: 50, Loss: 2.11\n",
      "Epoch: 51, Loss: 2.11\n",
      "Epoch: 52, Loss: 2.11\n",
      "Epoch: 53, Loss: 2.11\n",
      "Epoch: 54, Loss: 2.11\n",
      "Epoch: 55, Loss: 2.11\n",
      "Epoch: 56, Loss: 2.11\n",
      "Epoch: 57, Loss: 2.11\n",
      "Epoch: 58, Loss: 2.11\n",
      "Epoch: 59, Loss: 2.11\n"
     ]
    }
   ],
   "source": [
    "lr = 0.1\n",
    "\n",
    "for epoch in range(epochs):\n",
    "    epoch_loss = []\n",
    "\n",
    "    if epoch < 25:\n",
    "        lr = 0.1\n",
    "    else:\n",
    "        lr = 0.02\n",
    "            \n",
    "    for batch in batches:\n",
    "        emb = C[Xtr[batch]] # (32, 3, embedding count)\n",
    "        h = torch.tanh(emb.view(-1, embedding_count*block_size) @ W1 + b1) # (32, layer_size)\n",
    "        logits = h @ W2 + b2 # (32, 27)\n",
    "        loss = F.cross_entropy(logits, Ytr[batch])\n",
    "\n",
    "        for p in parameters:\n",
    "            p.grad = None\n",
    "        loss.backward()\n",
    "\n",
    "        for p in parameters:\n",
    "            p.data += -lr * p.grad\n",
    "\n",
    "        epoch_loss.append(loss.item())\n",
    "\n",
    "    print(f'Epoch: {epoch}, Loss: {np.mean(epoch_loss):.2f}')"
   ]
  },
  {
   "cell_type": "code",
   "execution_count": 622,
   "id": "83407a3e-c3e9-4cc8-8ae2-187f53fda442",
   "metadata": {},
   "outputs": [
    {
     "data": {
      "text/plain": [
       "tensor(2.1511, grad_fn=<NllLossBackward0>)"
      ]
     },
     "execution_count": 622,
     "metadata": {},
     "output_type": "execute_result"
    }
   ],
   "source": [
    "emb = C[Xdev] # (32, 3, 2)\n",
    "h = torch.tanh(emb.view(-1, embedding_count*block_size) @ W1 + b1) \n",
    "logits = h @ W2 + b2 # (32, 27)\n",
    "loss = F.cross_entropy(logits, Ydev)\n",
    "loss"
   ]
  },
  {
   "cell_type": "markdown",
   "id": "283638d4-8809-4554-ad39-e50f26c362a8",
   "metadata": {},
   "source": [
    "best = 2.15"
   ]
  },
  {
   "cell_type": "code",
   "execution_count": 623,
   "id": "03ac14f2-3422-414d-9861-2444d7584fba",
   "metadata": {},
   "outputs": [
    {
     "name": "stdout",
     "output_type": "stream",
     "text": [
      "carmaveah.\n",
      "jhavih.\n",
      "jarie.\n",
      "thaydence.\n",
      "saejarone.\n",
      "fapelync.\n",
      "kaqui.\n",
      "neloni.\n",
      "jcepiivon.\n",
      "leinah.\n",
      "lugeris.\n",
      "quint.\n",
      "shoveri.\n",
      "jadbi.\n",
      "waverox.\n",
      "jarysi.\n",
      "frankiigsabeem.\n",
      "ediia.\n",
      "giley.\n",
      "yura.\n"
     ]
    }
   ],
   "source": [
    "# sample from the model\n",
    "g = torch.Generator().manual_seed(2147483647 + 10)\n",
    "\n",
    "for _ in range(20):\n",
    "    \n",
    "    out = []\n",
    "    context = [0] * block_size # initialize with all ...\n",
    "    while True:\n",
    "      emb = C[torch.tensor([context])] # (1,block_size,d)\n",
    "      h = torch.tanh(emb.view(1, -1) @ W1 + b1)\n",
    "      logits = h @ W2 + b2\n",
    "      probs = F.softmax(logits, dim=1)\n",
    "      ix = torch.multinomial(probs, num_samples=1, generator=g).item()\n",
    "      context = context[1:] + [ix]\n",
    "      out.append(ix)\n",
    "      if ix == 0:\n",
    "        break\n",
    "    \n",
    "    print(''.join(itos[i] for i in out))"
   ]
  },
  {
   "cell_type": "code",
   "execution_count": null,
   "id": "0f145335-6a2e-4d02-87b3-71ed4a13b93b",
   "metadata": {},
   "outputs": [],
   "source": []
  }
 ],
 "metadata": {
  "kernelspec": {
   "display_name": "venv",
   "language": "python",
   "name": "venv"
  },
  "language_info": {
   "codemirror_mode": {
    "name": "ipython",
    "version": 3
   },
   "file_extension": ".py",
   "mimetype": "text/x-python",
   "name": "python",
   "nbconvert_exporter": "python",
   "pygments_lexer": "ipython3",
   "version": "3.12.3"
  }
 },
 "nbformat": 4,
 "nbformat_minor": 5
}
